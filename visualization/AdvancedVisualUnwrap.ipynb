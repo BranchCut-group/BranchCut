{
 "cells": [
  {
   "cell_type": "code",
   "execution_count": null,
   "metadata": {},
   "outputs": [],
   "source": [
    "import numpy as np\n",
    "import matplotlib.pyplot as plt\n",
    "from IPython.display import display, clear_output\n",
    "import sys\n",
    "from branchcut.exampleCreator import createExample, createUnwrappedBaseline, TrueBranchCuts\n",
    "from branchcut.unwrap import *\n",
    "from branchcut.setup import find_residues, create_mask\n",
    "from branchcut.branchCut import branch_cut"
   ]
  },
  {
   "cell_type": "code",
   "execution_count": 119,
   "metadata": {},
   "outputs": [],
   "source": [
    "def plot_cuts(ax, logical_array):\n",
    "    \"\"\"\n",
    "    Plots lines corresponding to the cuts in a logical array. \n",
    "    Cuts are aligned with the left and lower edges of the pixels.\n",
    "\n",
    "    Parameters:\n",
    "    logical_array (numpy.ndarray): A 2D logical array where `True` indicates a cut.\n",
    "    \"\"\"\n",
    "    rows, cols = logical_array.shape\n",
    "    \n",
    "    for r in range(rows):\n",
    "        for c in range(cols):\n",
    "            if logical_array[r, c]:\n",
    "\n",
    "                if c + 1 < cols and r +1 < rows:\n",
    "                    if not logical_array[r, c + 1] and not logical_array[r + 1, c]:\n",
    "                        # Corner\n",
    "                        continue\n",
    "\n",
    "                if c + 1 < cols:\n",
    "                    if not logical_array[r, c + 1]:\n",
    "                        # Draw horizontal line (lower edge)\n",
    "                        ax.plot([c+0.5, c+0.5], [r+0.5, r+0.5 + 1], 'k-', linewidth=5)\n",
    "\n",
    "                if r +1 < rows:\n",
    "                    if not logical_array[r + 1, c]:\n",
    "                        # Draw vertical line (left edge)\n",
    "                        ax.plot([c+0.5, c+0.5 + 1], [r+0.5, r+0.5], 'k-', linewidth=5)\n",
    "    "
   ]
  },
  {
   "cell_type": "markdown",
   "metadata": {},
   "source": [
    "# Plot for Report"
   ]
  },
  {
   "cell_type": "code",
   "execution_count": 147,
   "metadata": {},
   "outputs": [],
   "source": [
    "ub = ec.createUnwrappedBaseline((20,20),(0,8*np.pi))\n",
    "up, wp = ec.createExample(ub)\n",
    "BC = np.zeros((20,20),dtype=bool)\n",
    "\n",
    "BC[:15,4]=True\n",
    "BC[5, 10:20]=True\n",
    "BC[10,8:17]=True\n",
    "BC[15:20,8]=True\n",
    "BC[15,8:15]=True"
   ]
  },
  {
   "cell_type": "code",
   "execution_count": 169,
   "metadata": {},
   "outputs": [
    {
     "data": {
      "image/png": "[encoded data removed]",
      "text/plain": [
       "<Figure size 1000x500 with 7 Axes>"
      ]
     },
     "metadata": {},
     "output_type": "display_data"
    }
   ],
   "source": [
    "fig, ax = plt.subplots(2,3,figsize=(10,5),sharex=True,sharey=True)\n",
    "\n",
    "seed = np.zeros((20,20),dtype=bool)\n",
    "seed[2,2]=True\n",
    "cmap = plt.get_cmap('jet', 5)\n",
    "\n",
    "displayer = unWrapDisplayer(wp, seed=(2,2), branchCuts=BC, mode='bfs')\n",
    "for a in range(3):\n",
    "    for i in range(100):\n",
    "        displayer.update()\n",
    "    \n",
    "    image = displayer.adjoin.astype(int) + displayer.unwrapped.astype(int)\n",
    "    image[BC] = 3\n",
    "    image[seed] = 4\n",
    "    im = ax[0,a].imshow(image, vmin=-0.5,vmax=4.5,cmap=cmap)\n",
    "\n",
    "\n",
    "displayer = unWrapDisplayer(wp, seed=(2,2), branchCuts=BC, mode='dfs')\n",
    "for a in range(3):\n",
    "    for i in range(100):\n",
    "        displayer.update()\n",
    "    \n",
    "    image = displayer.adjoin.astype(int) + displayer.unwrapped.astype(int)\n",
    "    image[BC] = 3\n",
    "    image[seed] = 4    \n",
    "    im = ax[1,a].imshow(image, vmin=-0.5,vmax=4.5,cmap=cmap)\n",
    "\n",
    "\n",
    "cbar = fig.colorbar(im, ax=ax.ravel().tolist())\n",
    "cbar.ax.locator_params(nbins=5)\n",
    "cbar.set_ticks([0,1,2,3,4])\n",
    "cbar.set_ticklabels(['wrapped', 'In adjoin list', 'Unwrapped', 'Branch cut', ' Seed'])\n",
    "\n",
    "ax[0,0].set_ylabel('BFS')\n",
    "ax[1,0].set_ylabel('DFS')\n",
    "ax[0,0].set_title('After 100 steps')\n",
    "ax[0,1].set_title('After 200 steps')\n",
    "ax[0,2].set_title('After 300 steps')\n",
    "\n",
    "plt.show()"
   ]
  },
  {
   "cell_type": "markdown",
   "metadata": {},
   "source": [
    "# Animation"
   ]
  }
 ],
 "metadata": {
  "kernelspec": {
   "display_name": "N5ESMR",
   "language": "python",
   "name": "python3"
  },
  "language_info": {
   "codemirror_mode": {
    "name": "ipython",
    "version": 3
   },
   "file_extension": ".py",
   "mimetype": "text/x-python",
   "name": "python",
   "nbconvert_exporter": "python",
   "pygments_lexer": "ipython3",
   "version": "3.11.7"
  }
 },
 "nbformat": 4,
 "nbformat_minor": 2
}
