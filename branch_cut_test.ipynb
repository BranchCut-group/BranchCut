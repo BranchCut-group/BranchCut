{
 "cells": [
  {
   "cell_type": "code",
   "execution_count": 3,
   "metadata": {},
   "outputs": [],
   "source": [
    "import numpy as np\n",
    "import matplotlib.pyplot as plt"
   ]
  },
  {
   "cell_type": "code",
   "execution_count": 110,
   "metadata": {},
   "outputs": [],
   "source": [
    "def line(i1,j1,i2,j2):\n",
    "    \n",
    "    if abs(i2-i1) >= abs(j2-j1):\n",
    "        if i1 > i2:\n",
    "            i1,j1,i2,j2 = i2,j2,i1,j1\n",
    "        i = np.arange(i1+1,i2+1)\n",
    "        j = (j2-j1)/(i2-i1)*(i-i1)+j1\n",
    "    else:\n",
    "        if j1 > j2:\n",
    "            i1,j1,i2,j2 = i2,j2,i1,j1\n",
    "        j = np.arange(j1+1,j2+1)\n",
    "        i = (i2-i1)/(j2-j1)*(j-j1)+i1\n",
    "    \n",
    "    return np.ceil(i).astype(int),np.ceil(j).astype(int)\n"
   ]
  },
  {
   "cell_type": "code",
   "execution_count": 119,
   "metadata": {},
   "outputs": [
    {
     "data": {
      "image/png": "[encoded data removed]",
      "text/plain": [
       "<Figure size 640x480 with 1 Axes>"
      ]
     },
     "metadata": {},
     "output_type": "display_data"
    }
   ],
   "source": [
    "A = np.zeros((20,20))\n",
    "i1,j1,i2,j2 = 1,1,6,17\n",
    "i,j = line(i1,j1,i2,j2)\n",
    "A[[i1,i2],[j1,j2]]+=2\n",
    "A[i,j] += 1\n",
    "plt.imshow(A)\n",
    "plt.plot([j1+0.5,j2+0.5],[i1+0.5,i2+0.5],'r')\n",
    "plt.show()"
   ]
  },
  {
   "cell_type": "code",
   "execution_count": 153,
   "metadata": {},
   "outputs": [],
   "source": [
    "#B = np.zeros((5,5))\n",
    "C=np.array(np.nonzero(B))\n"
   ]
  },
  {
   "cell_type": "code",
   "execution_count": 160,
   "metadata": {},
   "outputs": [
    {
     "data": {
      "text/plain": [
       "(2, 2)"
      ]
     },
     "execution_count": 160,
     "metadata": {},
     "output_type": "execute_result"
    }
   ],
   "source": [
    "tuple(C[:,0])"
   ]
  },
  {
   "cell_type": "code",
   "execution_count": null,
   "metadata": {},
   "outputs": [],
   "source": [
    "def box_search(A,i,j,win_size):\n",
    "        r = (win_size-1)/2\n",
    "        try:\n",
    "            inds = np.array(np.nonzero(A[i-r:i+r,j-r:j+r])) #Indbygget np funktion, kan måske gøres hurtigere\n",
    "            return inds[:,0] if inds.size else 0\n",
    "        except IndexError:\n",
    "             # Indsæt edge detection her\n",
    "             return 0\n",
    "\n",
    "\n",
    "def branch_cut(residuals,max_win_size=None):\n",
    "\n",
    "    branch_cuts = np.zeros(residuals.shape).astype(bool)\n",
    "    #active = np.zeros(residuals.shape).astype(bool)\n",
    "    inactive = residuals.astype(bool)\n",
    "    balanced = np.zeros(residuals.shape).astype(bool)\n",
    "\n",
    "    if max_win_size is None:\n",
    "         max_win_size = np.min(residuals.size)\n",
    "    \n",
    "    for i in range(residuals.shape[0]):\n",
    "        for j in range(residuals.shape[1]):\n",
    "\n",
    "            if inactive[i,j] and not balanced[i,j]:\n",
    "                inactive[i,j] = False\n",
    "                charge = residuals[i,j]\n",
    "                win_size = 3\n",
    "                m,n = i,j\n",
    "                while charge:\n",
    "                    \n",
    "                    while win_size <= max_win_size:\n",
    "                        res_ind = box_search(inactive,m,n,win_size)\n",
    "                        if res_ind:\n",
    "                            m_n,n_n = res_ind[0],res_ind[1]\n",
    "                            break\n",
    "\n",
    "                        win_size+=2\n",
    "\n",
    "                    # Place branch cut\n",
    "                    i_bc,j_bc = line(m,n,m_n,n_n)\n",
    "                    branch_cuts[i_bc,j_bc] = 1\n",
    "\n",
    "                    # Set found residual to active and update charge\n",
    "                    inactive[m_n,n_n] = False\n",
    "                    charge += residuals[m_n,n_n]\n",
    "                    m,n = m_n,n_n\n",
    "                    \n",
    "                balanced[i,j] = 1\n",
    "                \n",
    "\n",
    "\n",
    "\n",
    "\n",
    "\n",
    "\n",
    "  \n",
    "\n"
   ]
  }
 ],
 "metadata": {
  "kernelspec": {
   "display_name": "Satgeo",
   "language": "python",
   "name": "python3"
  },
  "language_info": {
   "codemirror_mode": {
    "name": "ipython",
    "version": 3
   },
   "file_extension": ".py",
   "mimetype": "text/x-python",
   "name": "python",
   "nbconvert_exporter": "python",
   "pygments_lexer": "ipython3",
   "version": "3.10.14"
  }
 },
 "nbformat": 4,
 "nbformat_minor": 2
}
