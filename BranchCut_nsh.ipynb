{
 "cells": [
  {
   "cell_type": "code",
   "execution_count": 86,
   "id": "c962a9db-d401-4852-8abd-e9bcade22590",
   "metadata": {},
   "outputs": [],
   "source": [
    "import numpy as np\n",
    "import matplotlib.pyplot as plt\n",
    "import BranchCut"
   ]
  },
  {
   "cell_type": "code",
   "execution_count": 87,
   "id": "a58b1d6b-ffe9-4bc7-8141-c4cbff290f1f",
   "metadata": {},
   "outputs": [
    {
     "ename": "AttributeError",
     "evalue": "module 'BranchCut' has no attribute 'addresidues'",
     "output_type": "error",
     "traceback": [
      "\u001b[1;31m---------------------------------------------------------------------------\u001b[0m",
      "\u001b[1;31mAttributeError\u001b[0m                            Traceback (most recent call last)",
      "Cell \u001b[1;32mIn[87], line 9\u001b[0m\n\u001b[0;32m      1\u001b[0m data \u001b[38;5;241m=\u001b[39m BranchCut\u001b[38;5;241m.\u001b[39mmakephase(\u001b[38;5;241m10\u001b[39m)\n\u001b[0;32m      3\u001b[0m resloc \u001b[38;5;241m=\u001b[39m np\u001b[38;5;241m.\u001b[39marray([[\u001b[38;5;241m3\u001b[39m,\u001b[38;5;241m4\u001b[39m],\n\u001b[0;32m      4\u001b[0m                    [\u001b[38;5;241m2\u001b[39m,\u001b[38;5;241m5\u001b[39m],\n\u001b[0;32m      5\u001b[0m                    [\u001b[38;5;241m8\u001b[39m,\u001b[38;5;241m9\u001b[39m],\n\u001b[0;32m      6\u001b[0m                    [\u001b[38;5;241m9\u001b[39m,\u001b[38;5;241m7\u001b[39m],\n\u001b[0;32m      7\u001b[0m                    [\u001b[38;5;241m3\u001b[39m,\u001b[38;5;241m6\u001b[39m]])\n\u001b[1;32m----> 9\u001b[0m data_point_res \u001b[38;5;241m=\u001b[39m BranchCut\u001b[38;5;241m.\u001b[39maddresidues(data, resloc) \n\u001b[0;32m     11\u001b[0m data_wrap \u001b[38;5;241m=\u001b[39m BranchCut\u001b[38;5;241m.\u001b[39mwrap(data_point_res)\n",
      "\u001b[1;31mAttributeError\u001b[0m: module 'BranchCut' has no attribute 'addresidues'"
     ]
    }
   ],
   "source": [
    "data = BranchCut.makephase(10)\n",
    "\n",
    "resloc = np.array([[3,4],\n",
    "                   [2,5],\n",
    "                   [8,9],\n",
    "                   [9,7],\n",
    "                   [3,6]])\n",
    "\n",
    "data_point_res = BranchCut.addresidues(data, resloc) \n",
    "\n",
    "data_wrap = BranchCut.wrap(data_point_res)"
   ]
  },
  {
   "cell_type": "code",
   "execution_count": 70,
   "id": "e9ad57a1-5e8d-454f-8fea-3c1423316b3d",
   "metadata": {},
   "outputs": [
    {
     "data": {
      "image/png": "[encoded data removed]",
      "text/plain": [
       "<Figure size 640x480 with 2 Axes>"
      ]
     },
     "metadata": {},
     "output_type": "display_data"
    }
   ],
   "source": [
    "fig, ax = plt.subplots(1,2)\n",
    "ax[0].imshow(data)\n",
    "ax[0].set_title('Unwrapped phase diagram')\n",
    "ax[1].imshow(wrap_data)\n",
    "ax[1].set_title('Wrapped phase diagram')\n",
    "plt.show()"
   ]
  },
  {
   "cell_type": "code",
   "execution_count": null,
   "id": "09c7cfdc",
   "metadata": {},
   "outputs": [],
   "source": []
  }
 ],
 "metadata": {
  "kernelspec": {
   "display_name": "Python 3 (ipykernel)",
   "language": "python",
   "name": "python3"
  },
  "language_info": {
   "codemirror_mode": {
    "name": "ipython",
    "version": 3
   },
   "file_extension": ".py",
   "mimetype": "text/x-python",
   "name": "python",
   "nbconvert_exporter": "python",
   "pygments_lexer": "ipython3",
   "version": "3.12.7"
  }
 },
 "nbformat": 4,
 "nbformat_minor": 5
}
