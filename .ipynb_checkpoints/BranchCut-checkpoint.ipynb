{
 "cells": [
  {
   "cell_type": "code",
   "execution_count": 4,
   "id": "c962a9db-d401-4852-8abd-e9bcade22590",
   "metadata": {},
   "outputs": [],
   "source": [
    "import numpy as np\n",
    "import matplotlib.pyplot as plt"
   ]
  },
  {
   "cell_type": "code",
   "execution_count": 5,
   "id": "a58b1d6b-ffe9-4bc7-8141-c4cbff290f1f",
   "metadata": {},
   "outputs": [],
   "source": [
    "data = np.zeros((10,10))\n",
    "for i in range(10):\n",
    "    for j in range(10):\n",
    "        data[i,j] = j*np.pi/2"
   ]
  },
  {
   "cell_type": "code",
   "execution_count": 6,
   "id": "f7ad9f1a-d442-43c8-a6a0-f913e6f1e910",
   "metadata": {},
   "outputs": [
    {
     "data": {
      "text/plain": [
       "<matplotlib.image.AxesImage at 0x24d1ac51dc0>"
      ]
     },
     "execution_count": 6,
     "metadata": {},
     "output_type": "execute_result"
    },
    {
     "data": {
      "image/png": "[encoded data removed]",
      "text/plain": [
       "<Figure size 640x480 with 1 Axes>"
      ]
     },
     "metadata": {},
     "output_type": "display_data"
    }
   ],
   "source": [
    "plt.imshow(data)"
   ]
  },
  {
   "cell_type": "code",
   "execution_count": 19,
   "id": "d449be40-6478-4b0d-970f-c0df6cbef08b",
   "metadata": {},
   "outputs": [
    {
     "data": {
      "text/plain": [
       "\u001b[1;31mSignature:\u001b[0m       \u001b[0mnp\u001b[0m\u001b[1;33m.\u001b[0m\u001b[0mcopy\u001b[0m\u001b[1;33m(\u001b[0m\u001b[0ma\u001b[0m\u001b[1;33m,\u001b[0m \u001b[0morder\u001b[0m\u001b[1;33m=\u001b[0m\u001b[1;34m'K'\u001b[0m\u001b[1;33m,\u001b[0m \u001b[0msubok\u001b[0m\u001b[1;33m=\u001b[0m\u001b[1;32mFalse\u001b[0m\u001b[1;33m)\u001b[0m\u001b[1;33m\u001b[0m\u001b[1;33m\u001b[0m\u001b[0m\n",
       "\u001b[1;31mCall signature:\u001b[0m  \u001b[0mnp\u001b[0m\u001b[1;33m.\u001b[0m\u001b[0mcopy\u001b[0m\u001b[1;33m(\u001b[0m\u001b[1;33m*\u001b[0m\u001b[0margs\u001b[0m\u001b[1;33m,\u001b[0m \u001b[1;33m**\u001b[0m\u001b[0mkwargs\u001b[0m\u001b[1;33m)\u001b[0m\u001b[1;33m\u001b[0m\u001b[1;33m\u001b[0m\u001b[0m\n",
       "\u001b[1;31mType:\u001b[0m            _ArrayFunctionDispatcher\n",
       "\u001b[1;31mString form:\u001b[0m     <function copy at 0x0000024D1901E200>\n",
       "\u001b[1;31mFile:\u001b[0m            c:\\users\\au759530\\appdata\\local\\miniconda3\\lib\\site-packages\\numpy\\lib\\function_base.py\n",
       "\u001b[1;31mDocstring:\u001b[0m      \n",
       "Return an array copy of the given object.\n",
       "\n",
       "Parameters\n",
       "----------\n",
       "a : array_like\n",
       "    Input data.\n",
       "order : {'C', 'F', 'A', 'K'}, optional\n",
       "    Controls the memory layout of the copy. 'C' means C-order,\n",
       "    'F' means F-order, 'A' means 'F' if `a` is Fortran contiguous,\n",
       "    'C' otherwise. 'K' means match the layout of `a` as closely\n",
       "    as possible. (Note that this function and :meth:`ndarray.copy` are very\n",
       "    similar, but have different default values for their order=\n",
       "    arguments.)\n",
       "subok : bool, optional\n",
       "    If True, then sub-classes will be passed-through, otherwise the\n",
       "    returned array will be forced to be a base-class array (defaults to False).\n",
       "\n",
       "    .. versionadded:: 1.19.0\n",
       "\n",
       "Returns\n",
       "-------\n",
       "arr : ndarray\n",
       "    Array interpretation of `a`.\n",
       "\n",
       "See Also\n",
       "--------\n",
       "ndarray.copy : Preferred method for creating an array copy\n",
       "\n",
       "Notes\n",
       "-----\n",
       "This is equivalent to:\n",
       "\n",
       ">>> np.array(a, copy=True)  #doctest: +SKIP\n",
       "\n",
       "Examples\n",
       "--------\n",
       "Create an array x, with a reference y and a copy z:\n",
       "\n",
       ">>> x = np.array([1, 2, 3])\n",
       ">>> y = x\n",
       ">>> z = np.copy(x)\n",
       "\n",
       "Note that, when we modify x, y changes, but not z:\n",
       "\n",
       ">>> x[0] = 10\n",
       ">>> x[0] == y[0]\n",
       "True\n",
       ">>> x[0] == z[0]\n",
       "False\n",
       "\n",
       "Note that, np.copy clears previously set WRITEABLE=False flag.\n",
       "\n",
       ">>> a = np.array([1, 2, 3])\n",
       ">>> a.flags[\"WRITEABLE\"] = False\n",
       ">>> b = np.copy(a)\n",
       ">>> b.flags[\"WRITEABLE\"]\n",
       "True\n",
       ">>> b[0] = 3\n",
       ">>> b\n",
       "array([3, 2, 3])\n",
       "\n",
       "Note that np.copy is a shallow copy and will not copy object\n",
       "elements within arrays. This is mainly important for arrays\n",
       "containing Python objects. The new array will contain the\n",
       "same object which may lead to surprises if that object can\n",
       "be modified (is mutable):\n",
       "\n",
       ">>> a = np.array([1, 'm', [2, 3, 4]], dtype=object)\n",
       ">>> b = np.copy(a)\n",
       ">>> b[2][0] = 10\n",
       ">>> a\n",
       "array([1, 'm', list([10, 3, 4])], dtype=object)\n",
       "\n",
       "To ensure all elements within an ``object`` array are copied,\n",
       "use `copy.deepcopy`:\n",
       "\n",
       ">>> import copy\n",
       ">>> a = np.array([1, 'm', [2, 3, 4]], dtype=object)\n",
       ">>> c = copy.deepcopy(a)\n",
       ">>> c[2][0] = 10\n",
       ">>> c\n",
       "array([1, 'm', list([10, 3, 4])], dtype=object)\n",
       ">>> a\n",
       "array([1, 'm', list([2, 3, 4])], dtype=object)\n",
       "\u001b[1;31mClass docstring:\u001b[0m\n",
       "Class to wrap functions with checks for __array_function__ overrides.\n",
       "\n",
       "All arguments are required, and can only be passed by position.\n",
       "\n",
       "Parameters\n",
       "----------\n",
       "dispatcher : function or None\n",
       "    The dispatcher function that returns a single sequence-like object\n",
       "    of all arguments relevant.  It must have the same signature (except\n",
       "    the default values) as the actual implementation.\n",
       "    If ``None``, this is a ``like=`` dispatcher and the\n",
       "    ``_ArrayFunctionDispatcher`` must be called with ``like`` as the\n",
       "    first (additional and positional) argument.\n",
       "implementation : function\n",
       "    Function that implements the operation on NumPy arrays without\n",
       "    overrides.  Arguments passed calling the ``_ArrayFunctionDispatcher``\n",
       "    will be forwarded to this (and the ``dispatcher``) as if using\n",
       "    ``*args, **kwargs``.\n",
       "\n",
       "Attributes\n",
       "----------\n",
       "_implementation : function\n",
       "    The original implementation passed in."
      ]
     },
     "metadata": {},
     "output_type": "display_data"
    }
   ],
   "source": [
    "np.copy?"
   ]
  },
  {
   "cell_type": "code",
   "execution_count": 22,
   "id": "90488780-dfa5-40a6-bc0e-8d7ed24b2d4c",
   "metadata": {},
   "outputs": [],
   "source": [
    "def wrap(data):\n",
    "    data_out = np.copy(data)\n",
    "    for i in range(10):\n",
    "        for j in range(10):\n",
    "            (data_out[i,j]-np.pi)%(2*np.pi) - np.pi\n",
    "    return data_out\n",
    "    "
   ]
  },
  {
   "cell_type": "code",
   "execution_count": 23,
   "id": "84f9db42-7cc8-4bd9-bda5-48398dc95a77",
   "metadata": {},
   "outputs": [],
   "source": [
    "wrap_data = wrap(data)"
   ]
  },
  {
   "cell_type": "code",
   "execution_count": 24,
   "id": "e9ad57a1-5e8d-454f-8fea-3c1423316b3d",
   "metadata": {},
   "outputs": [
    {
     "data": {
      "text/plain": [
       "<matplotlib.image.AxesImage at 0x24d1bf4c9b0>"
      ]
     },
     "execution_count": 24,
     "metadata": {},
     "output_type": "execute_result"
    },
    {
     "data": {
      "image/png": "[encoded data removed]",
      "text/plain": [
       "<Figure size 640x480 with 1 Axes>"
      ]
     },
     "metadata": {},
     "output_type": "display_data"
    }
   ],
   "source": [
    "plt.imshow(wrap_data)"
   ]
  },
  {
   "cell_type": "code",
   "execution_count": null,
   "id": "8235a088-14a9-4b8f-82bd-edfce0a567c6",
   "metadata": {},
   "outputs": [],
   "source": []
  }
 ],
 "metadata": {
  "kernelspec": {
   "display_name": "Python 3 (ipykernel)",
   "language": "python",
   "name": "python3"
  },
  "language_info": {
   "codemirror_mode": {
    "name": "ipython",
    "version": 3
   },
   "file_extension": ".py",
   "mimetype": "text/x-python",
   "name": "python",
   "nbconvert_exporter": "python",
   "pygments_lexer": "ipython3",
   "version": "3.12.7"
  }
 },
 "nbformat": 4,
 "nbformat_minor": 5
}
